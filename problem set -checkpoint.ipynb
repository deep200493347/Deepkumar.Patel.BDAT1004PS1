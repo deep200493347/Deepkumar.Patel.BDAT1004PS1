{
 "cells": [
  {
   "cell_type": "markdown",
   "id": "223e4f31",
   "metadata": {},
   "source": [
    "   # Dataset 1\n"
   ]
  },
  {
   "cell_type": "markdown",
   "id": "1cf3209e",
   "metadata": {},
   "source": [
    "# Qustion1 \n",
    "\n",
    "What data type is each of the following?<br>\n",
    "5<br>\n",
    "5.0<br>\n",
    "5 > 1<br>\n",
    "'5'<br>\n",
    "5 * 2<br>\n",
    "'5' * 2<br>\n",
    "'5' + '2'<br>\n",
    "5 / 2<br>\n",
    "5 % 2<br>\n",
    "{5, 2, 1}<br>\n",
    "5 == 3<br>\n",
    "Pi (the number)<br>"
   ]
  },
  {
   "cell_type": "code",
   "execution_count": null,
   "id": "6699f3f8",
   "metadata": {},
   "outputs": [],
   "source": [
    "Ans(2): Integer\n",
    "Ans(3):Double\n",
    "Ans(4):True thats why data type is Boolean\n",
    "Ans(5):Char\n",
    "Ans(6):10 thats why data type is Integer\n",
    "Ans(7):106(c# will take the ascii of '5' ) Integer\n",
    "Ans(8):103(c# will take the ascii value for both) Integer\n",
    "Ans(9):2 thats why data type is Intger\n",
    "Ans(10):1 thats why data type is Integer\n",
    "Ans(11):\n",
    "Ans(12):False Boolean\n",
    "Ans(13):3.14 thats why data type is Float"
   ]
  },
  {
   "cell_type": "markdown",
   "id": "1cf34087",
   "metadata": {},
   "source": [
    "# Qustion 2\n",
    "\n",
    "Write (and evaluate) C# expressions that answer these questions:"
   ]
  },
  {
   "cell_type": "markdown",
   "id": "cd411eb7",
   "metadata": {},
   "source": [
    "(a)How many letters are there in 'Supercalifragilisticexpialidocious'?"
   ]
  },
  {
   "cell_type": "code",
   "execution_count": null,
   "id": "37a7c3b5",
   "metadata": {},
   "outputs": [],
   "source": [
    "string ex1 = \"Supercalifragilisticexpialidocious\";\n",
    "Console.WriteLine(\"Length of ex1 is:{0} \",(ex1.Length));\n",
    "Console.ReadLine();"
   ]
  },
  {
   "cell_type": "markdown",
   "id": "636d3940",
   "metadata": {},
   "source": [
    "![](2a.png)"
   ]
  },
  {
   "cell_type": "markdown",
   "id": "f9ffbb58",
   "metadata": {},
   "source": [
    "(b)Does 'Supercalifragilisticexpialidocious' contain 'ice' as a substring?"
   ]
  },
  {
   "cell_type": "code",
   "execution_count": null,
   "id": "7ab57af3",
   "metadata": {},
   "outputs": [],
   "source": [
    "string ex2 = \"Supercalifragilisticexpialidocious\";\n",
    "Console.WriteLine(ex2.Contains(\"ice\"));\n",
    "Console.ReadLine();\n"
   ]
  },
  {
   "cell_type": "markdown",
   "id": "0d5cc97d",
   "metadata": {},
   "source": [
    "![](2b.png)"
   ]
  },
  {
   "cell_type": "markdown",
   "id": "2243e36f",
   "metadata": {},
   "source": [
    "(c)Which of the following words is the longest: \n",
    "Supercalifragilisticexpialidocious, Honorificabilitudinitatibus, or \n",
    "Bababadalgharaghtakamminarronnkonn?"
   ]
  },
  {
   "cell_type": "code",
   "execution_count": null,
   "id": "1d31cfbe",
   "metadata": {},
   "outputs": [],
   "source": [
    "string name1 = \"Supercalifragilisticexpialidocious\";\n",
    "Console.WriteLine(\"length is {0}\", name1.Length);\n",
    "\n",
    "string name2 = \"Honorificabilitudinitatibus\";\n",
    "Console.WriteLine(\"length is {0}\", name2.Length);\n",
    "\n",
    "string name3 = \"Bababadalgharaghtakamminarronnkonn\";\n",
    "Console.WriteLine(\"length is {0}\", name3.Length);\n",
    "\n",
    "int x, y, z;\n",
    "x = name1.Length;\n",
    "y = name2.Length;\n",
    "z = name3.Length;\n",
    "             \n",
    "if(x > y && x > z)\n",
    "{\n",
    "    Console.WriteLine(\"Bigg:{0}\",name1);\n",
    "}\n",
    "else if(y > z)\n",
    "{\n",
    "    Console.WriteLine(\"Big: {0}\",name2);\n",
    "}\n",
    "else if(x == y )\n",
    "{\n",
    "    Console.WriteLine(\"Length of both word {0} and {1} is same\",name1,name2);\n",
    "}\n",
    "else if(x == z )\n",
    "{\n",
    "    Console.WriteLine(\"Length of both word {0} and {1} is same\",name1,name3);\n",
    "}\n",
    "else if(y == z )\n",
    "{\n",
    "    Console.WriteLine(\"Length of both word {0} and {1} is same\",name2,name3);\n",
    "}\n",
    "else\n",
    "{\n",
    "    Console.WriteLine(\"Big: {0}\",name3);\n",
    "}\n",
    "\n",
    "\n",
    "Console.ReadLine();\n"
   ]
  },
  {
   "cell_type": "markdown",
   "id": "df3f1a34",
   "metadata": {},
   "source": [
    "![](2c.png)"
   ]
  },
  {
   "cell_type": "markdown",
   "id": "e01a8c9e",
   "metadata": {},
   "source": [
    "(d)Which composer comes first in the dictionary: 'Berlioz', 'Borodin', 'Brian', \n",
    "'Bartok', 'Bellini', 'Buxtehude', 'Bernstein'. Which one comes last?"
   ]
  },
  {
   "cell_type": "code",
   "execution_count": null,
   "id": "600e1b1b",
   "metadata": {},
   "outputs": [],
   "source": [
    "string[] words = new string[] { \"Berlioz\", \"Borodin\", \"Brian\", \"Bartok\", \"Bellini\", \"Buxtehude\", \"Bernstein\" };\n",
    "Array.Sort(words);\n",
    "Console.WriteLine(words[0]);\n",
    "Console.ReadLine();"
   ]
  },
  {
   "cell_type": "markdown",
   "id": "9d4d8c69",
   "metadata": {},
   "source": [
    "![](2d.png)"
   ]
  },
  {
   "cell_type": "markdown",
   "id": "e61f4d2d",
   "metadata": {},
   "source": [
    "# Question 3\n",
    "Implement function triangleArea(a,b,c) that takes as input the lengths of the 3\n",
    "sides of a triangle and returns the area of the triangle. By Heron's formula, the area \n",
    "of a triangle with side lengths a, b, and c is\n",
    "s(s - a)(s -b)(s -c)\n",
    ", where \n",
    "s = (a+b+c)/2."
   ]
  },
  {
   "cell_type": "code",
   "execution_count": null,
   "id": "2bdc30eb",
   "metadata": {},
   "outputs": [],
   "source": [
    "using System;\n",
    "using System.Collections.Generic;\n",
    "using System.Linq;\n",
    "using System.Text;\n",
    "using System.Threading.Tasks;\n",
    "\n",
    "namespace program2\n",
    "{\n",
    "    class Program\n",
    "    {\n",
    "     \n",
    "        public void function1(double x,double y,double z)\n",
    "        {\n",
    "            double total=0;\n",
    "            total = (x + y + z)/2;\n",
    "            double area = Math.Sqrt(total * (total - x) * (total - y) * (total - z));\n",
    "            Console.WriteLine(\"Area of triangle is :\" + area);\n",
    "            Console.ReadLine();\n",
    "\n",
    "        }\n",
    "        static void Main(string[] args)\n",
    "        {\n",
    "            Console.WriteLine(\"Enter the first value:\");\n",
    "            double x = Convert.ToDouble(Console.ReadLine());\n",
    "\n",
    "\n",
    "            Console.WriteLine(\"Enter the Second value:\");\n",
    "            double y = Convert.ToDouble(Console.ReadLine());\n",
    "\n",
    "            Console.WriteLine(\"Enter the Third value:\");\n",
    "            double z = Convert.ToDouble(Console.ReadLine());\n",
    "\n",
    "            Program prg = new Program();\n",
    "            Console.WriteLine(\"you entered three values\" + x + y + z);\n",
    "            prg.function1(x, y, z);\n",
    "\n",
    "            Console.ReadLine();\n",
    "\n",
    "        }\n",
    "    }\n",
    "}"
   ]
  },
  {
   "cell_type": "markdown",
   "id": "1f41a134",
   "metadata": {},
   "source": [
    "![](3.png)"
   ]
  },
  {
   "cell_type": "markdown",
   "id": "65c952d3",
   "metadata": {},
   "source": [
    "# question 4\n",
    "Write a program in C# Sharp to separate odd and even integers in separate arrays. \n",
    "Go to the editor\n",
    "Test Data :\n",
    "Input the number of elements to be stored in the array :5\n",
    "Input 5 elements in the array :\n",
    "element - 0 : 25\n",
    "element - 1 : 47\n",
    "element - 2 : 42\n",
    "element - 3 : 56\n",
    "element - 4 : 32"
   ]
  },
  {
   "cell_type": "code",
   "execution_count": null,
   "id": "24909f05",
   "metadata": {},
   "outputs": [],
   "source": [
    "using System;\n",
    "using System.Collections.Generic;\n",
    "using System.Linq;\n",
    "using System.Text;\n",
    "using System.Threading.Tasks;\n",
    "\n",
    "namespace data_programing\n",
    "{\n",
    "    class Program2\n",
    "    {\n",
    "        static void Main(string[] args)\n",
    "        {\n",
    "           \n",
    "            Console.WriteLine(\"Input the number of element to be stored in the arrays:\");\n",
    "            int v =Convert.ToInt32(Console.ReadLine());\n",
    "\n",
    "            int[] number = new int[v];\n",
    "            Console.WriteLine(\"Input {0} element in the array:\", v);\n",
    "           \n",
    "            for(int i=0; i< number.Length; i++)\n",
    "            {\n",
    "                 number[i] = Convert.ToInt32(Console.ReadLine());\n",
    "            }\n",
    "\n",
    "            for (int i = 0; i < number.Length; i++)\n",
    "                {\n",
    "                Console.WriteLine(\"element{0}:\"+ number[i], i);\n",
    "\n",
    "                }\n",
    "            Console.WriteLine(\"List of even number:\");\n",
    "            for (int i = 0; i < number.Length; i++)\n",
    "            {\n",
    "                if (number[i] % 2 == 0)\n",
    "                {\n",
    "                    Console.Write(number[i] + \" \");\n",
    "                }  \n",
    "            }\n",
    "            Console.WriteLine();\n",
    "\n",
    "            Console.WriteLine(\"List of odd\");\n",
    "            for (int i = 0; i < number.Length; i++)\n",
    "            {\n",
    "                if (number[i] % 2 != 0)\n",
    "                {\n",
    "\n",
    "                    Console.Write(number[i] + \" \");\n",
    "                }\n",
    "            }\n",
    "           Console.ReadLine();\n",
    "        }\n",
    "    }\n",
    "}\n",
    "\n"
   ]
  },
  {
   "cell_type": "markdown",
   "id": "68555fbd",
   "metadata": {},
   "source": [
    "![](4.png)"
   ]
  },
  {
   "cell_type": "markdown",
   "id": "14fe707f",
   "metadata": {},
   "source": [
    "# qusetion 5\n",
    "a. Write a function inside(x,y,x1,y1,x2,y2) that returns True or False \n",
    "depending on whether the point (x,y) lies in the rectangle with lower left \n",
    "corner (x1,y1) and upper right corner (x2,y2).\n",
    "\n",
    "\n",
    "b. Use function inside() from part a. to write an expression that tests whether \n",
    "the point (1,1) lies in both of the following rectangles: one with lower left \n",
    "corner (0.3, 0.5) and upper right corner (1.1, 0.7) and the other with lower \n",
    "left corner (0.5, 0.2) and upper right corner (1.1, 2"
   ]
  },
  {
   "cell_type": "markdown",
   "id": "2ab95f11",
   "metadata": {},
   "source": [
    "Ans (A)"
   ]
  },
  {
   "cell_type": "code",
   "execution_count": null,
   "id": "62c47951",
   "metadata": {},
   "outputs": [],
   "source": [
    "using System;\n",
    "using System.Collections.Generic;\n",
    "using System.Linq;\n",
    "using System.Text;\n",
    "using System.Threading.Tasks;\n",
    "\n",
    "namespace ConsoleApp2\n",
    "{\n",
    "    class Program\n",
    "    {\n",
    "        static bool Inside(int x1, int y1, int x2,\n",
    "                     int y2, int x, int y)\n",
    "        {\n",
    "            if (x > x1 && x < x2 && y > y1 && y < y2)\n",
    "            {\n",
    "                return true;\n",
    "            }\n",
    "            else\n",
    "            {\n",
    "                return false;\n",
    "            }\n",
    "   \n",
    "        }\n",
    "        static void Main(string[] args)\n",
    "        { \n",
    "            int x = 1, y = 1, x1 = 0, y1 = 0, x2 = 2, y2 = 3;\n",
    "            if (Inside(x1, y1, x2, y2, x, y))\n",
    "            {\n",
    "                Console.Write(\"True\");\n",
    "            }\n",
    "            else\n",
    "            { \n",
    "                Console.Write(\"False\");\n",
    "            }\n",
    "            Console.ReadLine();\n",
    "        }\n",
    "\n",
    "    }\n",
    "}"
   ]
  },
  {
   "cell_type": "markdown",
   "id": "efc56bf2",
   "metadata": {},
   "source": [
    "![](q5a.png)"
   ]
  },
  {
   "cell_type": "markdown",
   "id": "6e2d6f2b",
   "metadata": {},
   "source": [
    "Ans (B)"
   ]
  },
  {
   "cell_type": "code",
   "execution_count": null,
   "id": "18149bf7",
   "metadata": {},
   "outputs": [],
   "source": [
    "using System;\n",
    "using System.Collections.Generic;\n",
    "using System.Linq;\n",
    "using System.Text;\n",
    "using System.Threading.Tasks;\n",
    "\n",
    "namespace ConsoleApp2\n",
    "{\n",
    "    class Program\n",
    "    {\n",
    "        static bool Inside(int x, int y, float x1, float y1, float x2, float y2,  float X3, float Y3, float X4, float Y4)\n",
    "        {\n",
    "            if (x > x1 && x < x2 && y > y1 && y < y2 && x > X1 && x < X2 && y > Y1 && y < Y2)\n",
    "            {\n",
    "                return true;\n",
    "            }\n",
    "            else\n",
    "            {\n",
    "                return false;\n",
    "            }\n",
    "            \n",
    "           \n",
    "\n",
    "        }\n",
    "        static void Main(string[] args)\n",
    "        {\n",
    "            int x = 1, y = 1;\n",
    "            float  x1 = 0.3F, y1 = 0.5F, x2 = 1.1F, y2 = 0.7F, X3 = 0.5F, Y3 = 0.2F, X4 = 1.1F, Y4 = 2;\n",
    "            if (Inside(x, y, x1, y1, x2, y2, X3, Y3, X4, Y4))\n",
    "            {\n",
    "                Console.Write(\"True\");\n",
    "            }\n",
    "            else\n",
    "            { \n",
    "                Console.Write(\"False\");\n",
    "            }\n",
    "            Console.ReadLine();\n",
    "        }\n",
    "\n",
    "    }\n",
    "}"
   ]
  },
  {
   "attachments": {},
   "cell_type": "markdown",
   "id": "48c50491",
   "metadata": {},
   "source": [
    "![](q5b.png)"
   ]
  },
  {
   "cell_type": "markdown",
   "id": "81948ab5",
   "metadata": {},
   "source": [
    "# question 6\n",
    "You can turn a word into pig-Latin using the following two rules (simplified):\n",
    "• If the word starts with a consonant, move that letter to the end and append \n",
    "'ay'. For example, 'happy' becomes 'appyhay' and 'pencil' becomes 'encilpay'.\n",
    "• If the word starts with a vowel, simply append 'way' to the end of the word. \n",
    "For example, 'enter' becomes 'enterway' and 'other' becomes 'otherway' . For \n",
    "our purposes, there are 5 vowels: a, e, i, o, u (so we count y as a consonant).\n",
    "Write a function pig() that takes a word (i.e., a string) as input and returns its pig\u0002Latin form. Your function should still work if the input word contains upper case \n",
    "characters. Your output should always be lower case however. "
   ]
  },
  {
   "cell_type": "code",
   "execution_count": 1,
   "id": "ed6420c8",
   "metadata": {},
   "outputs": [
    {
     "name": "stdout",
     "output_type": "stream",
     "text": [
      "any name:Enter\n",
      "vowels\n",
      "enterway\n"
     ]
    }
   ],
   "source": [
    "list=['a','i','o','u','e','A','I','O','U','E']\n",
    "pig_value=\"ay\"\n",
    "pig_value2=\"way\"\n",
    "\n",
    "\n",
    "def pig(n):\n",
    "    if n[0] in list:\n",
    "        print(\"vowels\")\n",
    "        word=n.lower()\n",
    "        new_word=word + pig_value2\n",
    "        print(new_word)\n",
    "    else:\n",
    "        print(\"not vowel\")\n",
    "        word=n.lower()\n",
    "        word2=n[0]\n",
    "        new_word1=word + word2 + pig_value \n",
    "        final_word1=new_word1[1:]\n",
    "        print(final_word1)\n",
    "\n",
    "\n",
    "name=input(\"any name:\")        \n",
    "pig(name)"
   ]
  },
  {
   "cell_type": "markdown",
   "id": "32cddef5",
   "metadata": {},
   "source": [
    "# Question 7\n",
    "File bloodtype1.txt records blood-types of patients (A, B, AB, O or OO) at a clinic. \n",
    "Write a function bldcount() that reads the file with name name and reports (i.e., \n",
    "prints) how many patients there are in each bloodtype"
   ]
  },
  {
   "cell_type": "code",
   "execution_count": 2,
   "id": "30415bdc",
   "metadata": {},
   "outputs": [
    {
     "name": "stdout",
     "output_type": "stream",
     "text": [
      "There are 15 patients of blood type A.\n",
      "There are 1 patients of blood type B.\n",
      "There is one patient of blood type B.\n",
      "There are 13 patients of blood type AB.\n",
      "There are 15 patients of blood type O.\n",
      "There are no patients of blood type OO.\n"
     ]
    }
   ],
   "source": [
    "Blood_Categories=['A', 'B', 'AB', 'O', 'OO']\n",
    "\n",
    "def bldcount(F_name):\n",
    "    infile=open(F_name,'r')\n",
    "    data=infile.read()\n",
    "    data=data.split()\n",
    "    infile.close()\n",
    "    \n",
    "    for type in Blood_Categories:\n",
    "        if data.count(type) != 0:\n",
    "            print('There are',data.count(type),'patients of blood type',type +'.')\n",
    "        if data.count(type) == 0:\n",
    "            print('There are no patients of blood type',type + '.')\n",
    "        if data.count(type) == 1:\n",
    "            print('There is one patient of blood type',type + '.')\n",
    "\n",
    "bldcount('C:/Users/deep1/Desktop/bloodtype1.txt')        "
   ]
  },
  {
   "cell_type": "markdown",
   "id": "a9693a26",
   "metadata": {},
   "source": [
    "# Question 8\n",
    "Write a function curconv() that takes as input:\n",
    "1. a currency represented using a string (e.g., 'JPY' for the Japanese Yen or \n",
    "'EUR' for the Euro)\n",
    "2. an amount\n",
    "and then converts and returns the amount in US dollars.\n"
   ]
  },
  {
   "cell_type": "code",
   "execution_count": null,
   "id": "728f5ce6",
   "metadata": {},
   "outputs": [],
   "source": [
    "def curcon(currency,amount):\n",
    "    raw_file=open('C:/Users/deep1/Desktop/currencies.txt','r')\n",
    "    content=raw_file.readlines()\n",
    "    for row in LINE:\n",
    "        #print(data)\n",
    "        if data==currency:\n",
    "            data1=row.split()\n",
    "            number=float(data1[1])\n",
    "            print(number * amount)\n",
    "            \n",
    "    \n",
    "    \n",
    "#    for i in data:\n",
    "#        print(content)\n",
    "#        if currency == data[i]:\n",
    "#            final=amount * data[i+1]\n",
    "#        else:\n",
    "#            print(\"error\")\n",
    "\n",
    "\n",
    "\n",
    "    \n",
    "      \n",
    "#c1=input(\"Enter currency name:\")\n",
    "#a1=input(\"Enter amount:\")"
   ]
  },
  {
   "cell_type": "markdown",
   "id": "d9af1ca8",
   "metadata": {},
   "source": [
    "# Question 9\n",
    "Each of the following will cause an exception (an error). Identify what type of \n",
    "exception each will cause.\n"
   ]
  },
  {
   "cell_type": "markdown",
   "id": "3045ef3b",
   "metadata": {},
   "source": [
    "Trying to add incompatible variables, as in \n",
    "adding 6 + ‘a’"
   ]
  },
  {
   "cell_type": "code",
   "execution_count": 3,
   "id": "783afab4",
   "metadata": {},
   "outputs": [
    {
     "ename": "TypeError",
     "evalue": "unsupported operand type(s) for +: 'int' and 'str'",
     "output_type": "error",
     "traceback": [
      "\u001b[1;31m---------------------------------------------------------------------------\u001b[0m",
      "\u001b[1;31mTypeError\u001b[0m                                 Traceback (most recent call last)",
      "\u001b[1;32m<ipython-input-3-63a7ed804344>\u001b[0m in \u001b[0;36m<module>\u001b[1;34m\u001b[0m\n\u001b[1;32m----> 1\u001b[1;33m \u001b[1;36m6\u001b[0m \u001b[1;33m+\u001b[0m \u001b[1;34m'a'\u001b[0m\u001b[1;33m\u001b[0m\u001b[1;33m\u001b[0m\u001b[0m\n\u001b[0m",
      "\u001b[1;31mTypeError\u001b[0m: unsupported operand type(s) for +: 'int' and 'str'"
     ]
    }
   ],
   "source": [
    "6 + 'a'\n",
    "# cannot apply arithmetec operation between different data types"
   ]
  },
  {
   "cell_type": "markdown",
   "id": "8acb73c1",
   "metadata": {},
   "source": [
    "Referring to the 12th item of a list that has only 10 \n",
    "items"
   ]
  },
  {
   "cell_type": "code",
   "execution_count": 4,
   "id": "3ef41b2c",
   "metadata": {},
   "outputs": [
    {
     "ename": "IndexError",
     "evalue": "list index out of range",
     "output_type": "error",
     "traceback": [
      "\u001b[1;31m---------------------------------------------------------------------------\u001b[0m",
      "\u001b[1;31mIndexError\u001b[0m                                Traceback (most recent call last)",
      "\u001b[1;32m<ipython-input-4-df6feab964c5>\u001b[0m in \u001b[0;36m<module>\u001b[1;34m\u001b[0m\n\u001b[0;32m      1\u001b[0m \u001b[0mlst\u001b[0m\u001b[1;33m=\u001b[0m\u001b[1;33m[\u001b[0m\u001b[1;34m'1'\u001b[0m\u001b[1;33m,\u001b[0m\u001b[1;34m'2'\u001b[0m\u001b[1;33m,\u001b[0m\u001b[1;34m'3'\u001b[0m\u001b[1;33m,\u001b[0m\u001b[1;34m'4'\u001b[0m\u001b[1;33m,\u001b[0m\u001b[1;34m'5'\u001b[0m\u001b[1;33m,\u001b[0m\u001b[1;34m'6'\u001b[0m\u001b[1;33m,\u001b[0m\u001b[1;34m'7'\u001b[0m\u001b[1;33m,\u001b[0m\u001b[1;34m'8'\u001b[0m\u001b[1;33m,\u001b[0m\u001b[1;34m'9'\u001b[0m\u001b[1;33m,\u001b[0m\u001b[1;34m'10'\u001b[0m\u001b[1;33m,\u001b[0m\u001b[1;34m'11'\u001b[0m\u001b[1;33m]\u001b[0m\u001b[1;33m\u001b[0m\u001b[1;33m\u001b[0m\u001b[0m\n\u001b[1;32m----> 2\u001b[1;33m \u001b[0mprint\u001b[0m\u001b[1;33m(\u001b[0m\u001b[0mlst\u001b[0m\u001b[1;33m[\u001b[0m\u001b[1;36m12\u001b[0m\u001b[1;33m]\u001b[0m\u001b[1;33m)\u001b[0m\u001b[1;33m\u001b[0m\u001b[1;33m\u001b[0m\u001b[0m\n\u001b[0m",
      "\u001b[1;31mIndexError\u001b[0m: list index out of range"
     ]
    }
   ],
   "source": [
    "lst=['1','2','3','4','5','6','7','8','9','10','11']\n",
    "print(lst[12])\n",
    "# lst has only 10 index values with data in it so cannot display 12 index data"
   ]
  },
  {
   "cell_type": "markdown",
   "id": "0e0782db",
   "metadata": {},
   "source": [
    "Using a value that is out of range for a function’s \n",
    "input, such as calling math.sqrt(-1.0)\n"
   ]
  },
  {
   "cell_type": "code",
   "execution_count": 2,
   "id": "33ad8e79",
   "metadata": {},
   "outputs": [
    {
     "ename": "ValueError",
     "evalue": "math domain error",
     "output_type": "error",
     "traceback": [
      "\u001b[1;31m---------------------------------------------------------------------------\u001b[0m",
      "\u001b[1;31mValueError\u001b[0m                                Traceback (most recent call last)",
      "\u001b[1;32m<ipython-input-2-d39e523296ce>\u001b[0m in \u001b[0;36m<module>\u001b[1;34m\u001b[0m\n\u001b[0;32m      1\u001b[0m \u001b[1;32mimport\u001b[0m \u001b[0mmath\u001b[0m\u001b[1;33m\u001b[0m\u001b[1;33m\u001b[0m\u001b[0m\n\u001b[1;32m----> 2\u001b[1;33m \u001b[0mmath\u001b[0m\u001b[1;33m.\u001b[0m\u001b[0msqrt\u001b[0m\u001b[1;33m(\u001b[0m\u001b[1;33m-\u001b[0m\u001b[1;36m1.0\u001b[0m\u001b[1;33m)\u001b[0m\u001b[1;33m\u001b[0m\u001b[1;33m\u001b[0m\u001b[0m\n\u001b[0m",
      "\u001b[1;31mValueError\u001b[0m: math domain error"
     ]
    }
   ],
   "source": [
    "import math\n",
    "math.sqrt(-1.0)\n",
    "# cannot do the squre root of negative value"
   ]
  },
  {
   "cell_type": "markdown",
   "id": "a72c595a",
   "metadata": {},
   "source": [
    "Using an undeclared variable, such as print(x)\n",
    "when x has not been defined"
   ]
  },
  {
   "cell_type": "code",
   "execution_count": 5,
   "id": "0ab3c626",
   "metadata": {},
   "outputs": [
    {
     "ename": "NameError",
     "evalue": "name 'x' is not defined",
     "output_type": "error",
     "traceback": [
      "\u001b[1;31m---------------------------------------------------------------------------\u001b[0m",
      "\u001b[1;31mNameError\u001b[0m                                 Traceback (most recent call last)",
      "\u001b[1;32m<ipython-input-5-fc17d851ef81>\u001b[0m in \u001b[0;36m<module>\u001b[1;34m\u001b[0m\n\u001b[1;32m----> 1\u001b[1;33m \u001b[0mprint\u001b[0m\u001b[1;33m(\u001b[0m\u001b[0mx\u001b[0m\u001b[1;33m)\u001b[0m\u001b[1;33m\u001b[0m\u001b[1;33m\u001b[0m\u001b[0m\n\u001b[0m",
      "\u001b[1;31mNameError\u001b[0m: name 'x' is not defined"
     ]
    }
   ],
   "source": [
    "print(x)\n",
    "# cannot print the variable which is not define"
   ]
  },
  {
   "cell_type": "markdown",
   "id": "bda653ab",
   "metadata": {},
   "source": [
    "Trying to open a file that does not exist, such as \n",
    "mistyping the file name or looking in the wrong \n",
    "directory. \n"
   ]
  },
  {
   "cell_type": "code",
   "execution_count": 9,
   "id": "76a90456",
   "metadata": {},
   "outputs": [
    {
     "ename": "FileNotFoundError",
     "evalue": "[Errno 2] No such file or directory: 'C:/Users/deep1/Desktop/bloodtype2.txt'",
     "output_type": "error",
     "traceback": [
      "\u001b[1;31m---------------------------------------------------------------------------\u001b[0m",
      "\u001b[1;31mFileNotFoundError\u001b[0m                         Traceback (most recent call last)",
      "\u001b[1;32m<ipython-input-9-702cb04dfc9e>\u001b[0m in \u001b[0;36m<module>\u001b[1;34m\u001b[0m\n\u001b[1;32m----> 1\u001b[1;33m \u001b[0minfile\u001b[0m\u001b[1;33m=\u001b[0m\u001b[0mopen\u001b[0m\u001b[1;33m(\u001b[0m\u001b[1;34m'C:/Users/deep1/Desktop/bloodtype2.txt'\u001b[0m\u001b[1;33m)\u001b[0m\u001b[1;33m\u001b[0m\u001b[1;33m\u001b[0m\u001b[0m\n\u001b[0m",
      "\u001b[1;31mFileNotFoundError\u001b[0m: [Errno 2] No such file or directory: 'C:/Users/deep1/Desktop/bloodtype2.txt'"
     ]
    }
   ],
   "source": [
    "infile=open('C:/Users/deep1/Desktop/bloodtype2.txt')\n",
    "# there is no such file as bloodtype2 on my computer"
   ]
  },
  {
   "cell_type": "markdown",
   "id": "e83b7627",
   "metadata": {},
   "source": [
    "# Question 10\n",
    "Encryption is the process of hiding the meaning of a text by substituting letters in the \n",
    "message with other letters, according to some system. If the process is successful, no \n",
    "one but the intended recipient can understand the encrypted message. Cryptanalysis\n",
    "refers to attempts to undo the encryption, even if some details of the encryption are \n",
    "unknown (for example, if an encrypted message has been intercepted). The first step \n",
    "of cryptanalysis is often to build up a table of letter frequencies in the encrypted text. \n",
    "Assume that the string letters is already defined as \n",
    "'abcdefghijklmnopqrstuvwxyz'. Write a function called frequencies()\n",
    "that takes a string as its only parameter, and returns a list of integers, showing the \n",
    "number of times each character appears in the text. Your function may ignore any \n",
    "characters that are not in letters. "
   ]
  },
  {
   "cell_type": "code",
   "execution_count": 1,
   "id": "6dc191ab",
   "metadata": {},
   "outputs": [
    {
     "name": "stdout",
     "output_type": "stream",
     "text": [
      "enter name:apple\n",
      "[1, 2, 1, 1]\n"
     ]
    }
   ],
   "source": [
    "Letter='abcdefghijklmnopqrstuvwxyz'\n",
    "def frequency(itemList):\n",
    "    word = {}\n",
    "    for item in itemList:\n",
    "        #increase the item counter\n",
    "        if item in word: \n",
    "            word[item] += 1\n",
    "        else:\n",
    "            word[item] = 1\n",
    "      \n",
    "    \n",
    "    repeat_value = word.values() #extract the values from dictonory\n",
    "\n",
    "    Listofvalues = list(repeat_value) #creating list of values \n",
    "    print(Listofvalues) #return the values\n",
    "    \n",
    "  \n",
    "x=input(\"enter name:\")\n",
    "frequency(x)"
   ]
  },
  {
   "cell_type": "code",
   "execution_count": null,
   "id": "9f44e24f",
   "metadata": {},
   "outputs": [],
   "source": []
  }
 ],
 "metadata": {
  "kernelspec": {
   "display_name": "Python 3",
   "language": "python",
   "name": "python3"
  },
  "language_info": {
   "codemirror_mode": {
    "name": "ipython",
    "version": 3
   },
   "file_extension": ".py",
   "mimetype": "text/x-python",
   "name": "python",
   "nbconvert_exporter": "python",
   "pygments_lexer": "ipython3",
   "version": "3.8.8"
  }
 },
 "nbformat": 4,
 "nbformat_minor": 5
}
